{
 "cells": [
  {
   "cell_type": "code",
   "execution_count": 11,
   "metadata": {
    "collapsed": true
   },
   "outputs": [],
   "source": [
    "from recsys import dataset\n",
    "from recsys import Dataset, evaluate\n",
    "from recsys.prediction_algorithms import SVD\n",
    "\n",
    "#Loading the dataset\n",
    "filePath = '/Users/JeongSooMin/iCloud Drive(아카이브)/Desktop/Gpaper/최종보고/dataset/ml-latest/ratings.csv'\n",
    "reader = dataset.Reader(line_format='user item rating timestamp', sep=',')"
   ]
  },
  {
   "cell_type": "code",
   "execution_count": 12,
   "metadata": {
    "collapsed": true
   },
   "outputs": [],
   "source": [
    "data = Dataset.load_from_file(filePath, reader=reader)"
   ]
  },
  {
   "cell_type": "code",
   "execution_count": 24,
   "metadata": {
    "collapsed": true
   },
   "outputs": [],
   "source": [
    "data.split(n_folds=20)"
   ]
  },
  {
   "cell_type": "code",
   "execution_count": 25,
   "metadata": {},
   "outputs": [
    {
     "name": "stdout",
     "output_type": "stream",
     "text": [
      "--------------------\n",
      "fold 0\n",
      "RMSE: 0.8566\n",
      "MAE: 0.6535\n",
      "--------------------\n",
      "fold 1\n",
      "RMSE: 0.8560\n",
      "MAE: 0.6527\n",
      "--------------------\n",
      "fold 2\n",
      "RMSE: 0.8512\n",
      "MAE: 0.6494\n",
      "--------------------\n",
      "fold 3\n",
      "RMSE: 0.8523\n",
      "MAE: 0.6521\n",
      "--------------------\n",
      "fold 4\n",
      "RMSE: 0.8574\n",
      "MAE: 0.6534\n",
      "--------------------\n",
      "fold 5\n",
      "RMSE: 0.8520\n",
      "MAE: 0.6494\n",
      "--------------------\n",
      "fold 6\n",
      "RMSE: 0.8513\n",
      "MAE: 0.6508\n",
      "--------------------\n",
      "fold 7\n",
      "RMSE: 0.8479\n",
      "MAE: 0.6480\n",
      "--------------------\n",
      "fold 8\n",
      "RMSE: 0.8526\n",
      "MAE: 0.6503\n",
      "--------------------\n",
      "fold 9\n",
      "RMSE: 0.8603\n",
      "MAE: 0.6559\n",
      "--------------------\n",
      "fold 10\n",
      "RMSE: 0.8555\n",
      "MAE: 0.6517\n",
      "--------------------\n",
      "fold 11\n",
      "RMSE: 0.8514\n",
      "MAE: 0.6509\n",
      "--------------------\n",
      "fold 12\n",
      "RMSE: 0.8576\n",
      "MAE: 0.6548\n",
      "--------------------\n",
      "fold 13\n",
      "RMSE: 0.8523\n",
      "MAE: 0.6495\n",
      "--------------------\n",
      "fold 14\n",
      "RMSE: 0.8554\n",
      "MAE: 0.6528\n",
      "--------------------\n",
      "fold 15\n",
      "RMSE: 0.8544\n",
      "MAE: 0.6535\n",
      "--------------------\n",
      "fold 16\n",
      "RMSE: 0.8530\n",
      "MAE: 0.6515\n",
      "--------------------\n",
      "fold 17\n",
      "RMSE: 0.8529\n",
      "MAE: 0.6498\n",
      "--------------------\n",
      "fold 18\n",
      "RMSE: 0.8556\n",
      "MAE: 0.6539\n",
      "--------------------\n",
      "fold 19\n",
      "RMSE: 0.8478\n",
      "MAE: 0.6490\n",
      "--------------------\n",
      "mean RMSE : 0.8537\n",
      "mean MAE : 0.6516\n"
     ]
    },
    {
     "data": {
      "text/plain": [
       "CaseInsensitiveDefaultDict(list,\n",
       "                           {'mae': [0.65348239833186594,\n",
       "                             0.65268699912644379,\n",
       "                             0.64941114644709486,\n",
       "                             0.65210743878980815,\n",
       "                             0.65341949900160701,\n",
       "                             0.64943009210678626,\n",
       "                             0.65084484492455918,\n",
       "                             0.64797496542291266,\n",
       "                             0.65029554376619814,\n",
       "                             0.65589320370109283,\n",
       "                             0.65171857624875396,\n",
       "                             0.65093628412233129,\n",
       "                             0.65478916274965593,\n",
       "                             0.64952687426708011,\n",
       "                             0.65283259526478832,\n",
       "                             0.65347167748288604,\n",
       "                             0.65148626714575597,\n",
       "                             0.64980204922402074,\n",
       "                             0.65387179463344258,\n",
       "                             0.64895689051848038],\n",
       "                            'rmse': [0.85659952858963606,\n",
       "                             0.85595617348190822,\n",
       "                             0.85117792518577839,\n",
       "                             0.85226968728555241,\n",
       "                             0.85736628843642992,\n",
       "                             0.85203963950511297,\n",
       "                             0.85133382749138831,\n",
       "                             0.84791658526410274,\n",
       "                             0.85258406802366671,\n",
       "                             0.86027851870243088,\n",
       "                             0.85547595245907271,\n",
       "                             0.85142680879454202,\n",
       "                             0.85758051294645654,\n",
       "                             0.85230845806070787,\n",
       "                             0.85538479658280797,\n",
       "                             0.85437946239513973,\n",
       "                             0.85299559094731137,\n",
       "                             0.85290499521803642,\n",
       "                             0.8555593081351538,\n",
       "                             0.84783351890191605]})"
      ]
     },
     "execution_count": 25,
     "metadata": {},
     "output_type": "execute_result"
    }
   ],
   "source": [
    "algo = SVD()\n",
    "evaluate(algo, data, measures=['rmse', 'mae'], with_dump=False,\n",
    "             dump_dir=None, verbose=1)"
   ]
  }
 ],
 "metadata": {
  "kernelspec": {
   "display_name": "Python 3",
   "language": "python",
   "name": "python3"
  },
  "language_info": {
   "codemirror_mode": {
    "name": "ipython",
    "version": 3
   },
   "file_extension": ".py",
   "mimetype": "text/x-python",
   "name": "python",
   "nbconvert_exporter": "python",
   "pygments_lexer": "ipython3",
   "version": "3.6.1"
  }
 },
 "nbformat": 4,
 "nbformat_minor": 2
}
