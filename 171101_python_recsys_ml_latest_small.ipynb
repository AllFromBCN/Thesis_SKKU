{
 "cells": [
  {
   "cell_type": "code",
   "execution_count": 1,
   "metadata": {
    "collapsed": true
   },
   "outputs": [],
   "source": [
    "from recsys import dataset, Dataset, evaluate\n",
    "from recsys.prediction_algorithms import SVD\n",
    "\n",
    "#Loading the dataset\n",
    "filePath = '/Users/JeongSooMin/iCloud Drive(아카이브)/Desktop/Gpaper/최종보고/dataset/ml-latest-small/ratings.csv'\n",
    "reader = dataset.Reader(line_format='user item rating timestamp', sep=',')"
   ]
  },
  {
   "cell_type": "code",
   "execution_count": 4,
   "metadata": {
    "collapsed": true
   },
   "outputs": [],
   "source": [
    "data = Dataset.load_from_file(filePath, reader=reader)"
   ]
  },
  {
   "cell_type": "code",
   "execution_count": 13,
   "metadata": {
    "collapsed": true
   },
   "outputs": [],
   "source": [
    "data.split(n_folds=2)"
   ]
  },
  {
   "cell_type": "code",
   "execution_count": 14,
   "metadata": {},
   "outputs": [
    {
     "name": "stdout",
     "output_type": "stream",
     "text": [
      "--------------------\n",
      "fold 0\n",
      "RMSE: 0.9058\n",
      "MAE: 0.6978\n",
      "--------------------\n",
      "fold 1\n",
      "RMSE: 0.9122\n",
      "MAE: 0.7056\n",
      "--------------------\n",
      "mean RMSE : 0.9090\n",
      "mean MAE : 0.7017\n"
     ]
    },
    {
     "data": {
      "text/plain": [
       "CaseInsensitiveDefaultDict(list,\n",
       "                           {'mae': [0.69779592206086849, 0.70555585709036794],\n",
       "                            'rmse': [0.90584328309832718,\n",
       "                             0.91217497016231641]})"
      ]
     },
     "execution_count": 14,
     "metadata": {},
     "output_type": "execute_result"
    }
   ],
   "source": [
    "algo = SVD()\n",
    "evaluate(algo, data, measures=['rmse', 'mae'], with_dump=False,\n",
    "             dump_dir=None, verbose=1)"
   ]
  }
 ],
 "metadata": {
  "kernelspec": {
   "display_name": "Python 3",
   "language": "python",
   "name": "python3"
  },
  "language_info": {
   "codemirror_mode": {
    "name": "ipython",
    "version": 3
   },
   "file_extension": ".py",
   "mimetype": "text/x-python",
   "name": "python",
   "nbconvert_exporter": "python",
   "pygments_lexer": "ipython3",
   "version": "3.6.1"
  }
 },
 "nbformat": 4,
 "nbformat_minor": 2
}
