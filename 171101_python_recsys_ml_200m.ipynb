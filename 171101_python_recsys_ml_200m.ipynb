{
 "cells": [
  {
   "cell_type": "code",
   "execution_count": 1,
   "metadata": {
    "collapsed": true
   },
   "outputs": [],
   "source": [
    "from recsys import dataset, Dataset, evaluate\n",
    "from recsys.prediction_algorithms import SVD\n",
    "\n",
    "\n",
    "#Loading the dataset\n",
    "filePath = '/Users/JeongSooMin/iCloud Drive(아카이브)/Desktop/Gpaper/최종보고/dataset/ml-20m/ratings.csv'\n",
    "reader = dataset.Reader(line_format='user item rating timestamp', sep=',')"
   ]
  },
  {
   "cell_type": "code",
   "execution_count": 3,
   "metadata": {
    "collapsed": true
   },
   "outputs": [],
   "source": [
    "data = Dataset.load_from_file(filePath, reader=reader)"
   ]
  },
  {
   "cell_type": "code",
   "execution_count": 12,
   "metadata": {
    "collapsed": true
   },
   "outputs": [],
   "source": [
    "data.split(n_folds=10)"
   ]
  },
  {
   "cell_type": "code",
   "execution_count": 13,
   "metadata": {},
   "outputs": [
    {
     "name": "stdout",
     "output_type": "stream",
     "text": [
      "--------------------\n",
      "fold 0\n",
      "RMSE: 0.8593\n",
      "MAE: 0.6613\n",
      "--------------------\n",
      "fold 1\n",
      "RMSE: 0.8544\n",
      "MAE: 0.6566\n",
      "--------------------\n",
      "fold 2\n",
      "RMSE: 0.8570\n",
      "MAE: 0.6581\n",
      "--------------------\n",
      "fold 3\n",
      "RMSE: 0.8546\n",
      "MAE: 0.6566\n",
      "--------------------\n",
      "fold 4\n",
      "RMSE: 0.8548\n",
      "MAE: 0.6573\n",
      "--------------------\n",
      "fold 5\n",
      "RMSE: 0.8531\n",
      "MAE: 0.6544\n",
      "--------------------\n",
      "fold 6\n",
      "RMSE: 0.8511\n",
      "MAE: 0.6536\n",
      "--------------------\n",
      "fold 7\n",
      "RMSE: 0.8595\n",
      "MAE: 0.6608\n",
      "--------------------\n",
      "fold 8\n",
      "RMSE: 0.8592\n",
      "MAE: 0.6596\n",
      "--------------------\n",
      "fold 9\n",
      "RMSE: 0.8566\n",
      "MAE: 0.6575\n",
      "--------------------\n",
      "mean RMSE : 0.8560\n",
      "mean MAE : 0.6576\n"
     ]
    },
    {
     "data": {
      "text/plain": [
       "CaseInsensitiveDefaultDict(list,\n",
       "                           {'mae': [0.66126474958734505,\n",
       "                             0.65660079278858396,\n",
       "                             0.65806729266231956,\n",
       "                             0.65657538313313535,\n",
       "                             0.65725314434123439,\n",
       "                             0.65436039508977573,\n",
       "                             0.65355563053702648,\n",
       "                             0.66075029708703936,\n",
       "                             0.65958469256900765,\n",
       "                             0.65754706052870915],\n",
       "                            'rmse': [0.859313233669177,\n",
       "                             0.85437914541935123,\n",
       "                             0.857020992719147,\n",
       "                             0.85460165155990508,\n",
       "                             0.85480177186755457,\n",
       "                             0.85305306624408661,\n",
       "                             0.85110168840548983,\n",
       "                             0.85947053273541152,\n",
       "                             0.85922634355803862,\n",
       "                             0.85657694812934682]})"
      ]
     },
     "execution_count": 13,
     "metadata": {},
     "output_type": "execute_result"
    }
   ],
   "source": [
    "algo = SVD()\n",
    "evaluate(algo, data, measures=['rmse', 'mae'], with_dump=False,\n",
    "             dump_dir=None, verbose=1)"
   ]
  }
 ],
 "metadata": {
  "kernelspec": {
   "display_name": "Python 3",
   "language": "python",
   "name": "python3"
  },
  "language_info": {
   "codemirror_mode": {
    "name": "ipython",
    "version": 3
   },
   "file_extension": ".py",
   "mimetype": "text/x-python",
   "name": "python",
   "nbconvert_exporter": "python",
   "pygments_lexer": "ipython3",
   "version": "3.6.1"
  }
 },
 "nbformat": 4,
 "nbformat_minor": 2
}
